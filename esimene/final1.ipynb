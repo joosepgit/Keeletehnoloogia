{
 "cells": [
  {
   "cell_type": "markdown",
   "metadata": {},
   "source": [
    "# 1. kodutöö: täida lüngad"
   ]
  },
  {
   "cell_type": "code",
   "execution_count": 1,
   "metadata": {},
   "outputs": [
    {
     "name": "stderr",
     "output_type": "stream",
     "text": [
      "C:\\Users\\Joosep\\anaconda3\\envs\\Keeletehnoloogia\\lib\\site-packages\\numpy\\_distributor_init.py:32: UserWarning: loaded more than 1 DLL from .libs:\n",
      "C:\\Users\\Joosep\\anaconda3\\envs\\Keeletehnoloogia\\lib\\site-packages\\numpy\\.libs\\libopenblas.JPIJNSWNNAN3CE6LLI5FWSPHUT2VXMTH.gfortran-win_amd64.dll\n",
      "C:\\Users\\Joosep\\anaconda3\\envs\\Keeletehnoloogia\\lib\\site-packages\\numpy\\.libs\\libopenblas.WCDJNK7YVMPZQ2ME2ZZHJJRJ3JIKNDB7.gfortran-win_amd64.dll\n",
      "  stacklevel=1)\n"
     ]
    }
   ],
   "source": [
    "import os\n",
    "import sys\n",
    "import random\n",
    "import nltk\n",
    "import estnltk\n",
    "from estnltk import Text\n",
    "from datetime import datetime \n",
    "from estnltk.corpus_processing.parse_koondkorpus import parse_tei_corpus, parse_tei_corpora\n",
    "from nltk.lm.preprocessing import padded_everygram_pipeline\n",
    "from nltk.lm import MLE"
   ]
  },
  {
   "cell_type": "markdown",
   "metadata": {},
   "source": [
    "## Andmete sisselugemine"
   ]
  },
  {
   "cell_type": "code",
   "execution_count": 2,
   "metadata": {},
   "outputs": [],
   "source": [
    "def lahendaLyngad(gaps_faili_nimi, vars_faili_nimi, korpuse_asukoht):\n",
    "    # lünktekst\n",
    "    gap_fnm = gaps_faili_nimi\n",
    "    # vastavate kandidaatide nimistu\n",
    "    cnd_fnm = vars_faili_nimi\n",
    "    # korpusefailide asukoht\n",
    "    corp_loc = korpuse_asukoht\n",
    "    # vastused\n",
    "    rankings = []\n",
    "    \n",
    "    with open (gap_fnm, 'r', encoding='utf-8') as gap_file:\n",
    "        gaps = gap_file.readlines()\n",
    "    with open (cnd_fnm, 'r', encoding='utf-8') as cnd_file:\n",
    "        cnds = cnd_file.readlines()\n",
    "    \n",
    "    #Kontrolli, kas sisendfailides on ridu sama palju\n",
    "    if len(gaps)!= len(cnds):\n",
    "        print(\"Sisendiks saadud lausete ja kandidaatide arvud ei klapi.\")\n",
    "        return\n",
    "    \n",
    "    korpuseinfo = []\n",
    "    #=======================================================\n",
    "    # ToDo\n",
    "    #=======================================================\n",
    "    korpuseinfo = loeKorpus(corp_loc)\n",
    "    \n",
    "    for i,gap in enumerate(gaps):\n",
    "        # Loe sisse üks rida (lause) lünktekstist\n",
    "        gap = gap.rstrip()\n",
    "        # Löö tühikute kohalt lahkuk\n",
    "        items = gap.split()\n",
    "        # Kus on lünk - rea alguses olev sõne\n",
    "        word_offset = int(items[0])\n",
    "        sentence = items[1:]\n",
    "        # lüngasõne\n",
    "        gap_word = sentence[word_offset]\n",
    "    \n",
    "        # loe sisse üks rida (kandidaadid) teisest failist\n",
    "        cnd = cnds[i].rstrip()\n",
    "        candidates = cnd.split()\n",
    "       \n",
    "        # Lisa õige sõna kandidaatide hulka\n",
    "        candidates.append(gap_word)\n",
    "        # Sega kõik läbi, et oleks aus\n",
    "        random.shuffle(candidates)\n",
    "        # Ja võta lausest õige sõna välja\n",
    "        sentence[word_offset] = \"\"\n",
    "        \n",
    "        #=========================================\n",
    "        # ToDo\n",
    "        candidates = jarjesta(sentence,word_offset,candidates,korpuseinfo)\n",
    "        #=========================================\n",
    "        \n",
    "        # Vaata kõik läbi ja ütle, mitmes oli õige\n",
    "        for j, c in enumerate(candidates):\n",
    "            if c == gap_word:\n",
    "                rankings.append(j)\n",
    "                break\n",
    "                \n",
    "    #Vastuseid peab olema õige arv\n",
    "    if len(rankings)!=len(gaps):\n",
    "        print(\"Midagi on valesti. Sain\",len(gaps),\"lausele\",len(rankings),\"hinnangut\")\n",
    "    return rankings"
   ]
  },
  {
   "cell_type": "code",
   "execution_count": 3,
   "metadata": {},
   "outputs": [],
   "source": [
    "def loeKorpus(korpusekaust):\n",
    "    # Loeme korpuse sisse otse tokeniseeritud tekstiks\n",
    "    tokenized_text = [list(map(str.lower, nltk.word_tokenize(sent))) for sent in \n",
    "                     [\" \".join(artikkel.tag_layer().sentences.text) for artikkel in \n",
    "                      parse_tei_corpora(korpusekaust, suffix='.xml', target=['artikkel'])]]\n",
    "            \n",
    "    # Loome trigrammide tõenäosuse mugavamaks leidmiseks sobiliku mudeli\n",
    "    n = 3\n",
    "    train_data, padded_sents = padded_everygram_pipeline(n, tokenized_text)\n",
    "\n",
    "    model = MLE(n)\n",
    "    model.fit(train_data, padded_sents)\n",
    "    \n",
    "    # Tagastan täisteksti ja valmis mudeli\n",
    "    return model"
   ]
  },
  {
   "cell_type": "code",
   "execution_count": 4,
   "metadata": {},
   "outputs": [],
   "source": [
    "def jarjesta(lyngalause, lynga_asukoht, kandidaadid, korpuseinfo):\n",
    "    ###\n",
    "    # Reasta kandidaadid nii, et kõige tõenäolisem oleks esimene\n",
    "    # lyngalause - lause sõnede list, kus otsitava sõne asemel on tühisõne\n",
    "    # lynga_asukoht - mitmes sõne lauses on lünk\n",
    "    # kandidaadid - üks õige ja 200 vale vastust\n",
    "    # korpuseinfo - meetodi loeKorpus väljund\n",
    "    ###\n",
    "    probmap = dict()\n",
    "    trigramm = ['', '', '']\n",
    "    \n",
    "    # Iga lünga kohta peame leidma iga kandidaadi tõenäosuse\n",
    "    for kandidaat in kandidaadid:\n",
    "        lyngalause[lynga_asukoht] = kandidaat\n",
    "        # Tõenäosustega korrutamisel algväärtus 1\n",
    "        kandidaadi_prob = 1\n",
    "        # Vastavas plokis katame ära kõik võimalikud trigrammid\n",
    "        # mis katavad lünka, kui läheme piiridest välja, siis\n",
    "        # vaatame järgmist tsükli sammu\n",
    "        if len(lyngalause) > 2:\n",
    "            for i in range(3):\n",
    "                try:\n",
    "                    trigramm[0] = lyngalause[lynga_asukoht-i]\n",
    "                    trigramm[1] = lyngalause[lynga_asukoht+1-i]\n",
    "                    trigramm[2] = lyngalause[lynga_asukoht+2-i]\n",
    "                    # Leitud trigrami puhul korrutame kandidaadi tõenäosuse trigrami tõenäosusega\n",
    "                    kandidaadi_prob*=interpoleeritudTN(trigramm, korpuseinfo)\n",
    "                except:\n",
    "                    continue\n",
    "        # Lisame kandidaadi ja tema tõenäosuse probability mapi\n",
    "        probmap[kandidaat] = kandidaadi_prob\n",
    "    # Tagastame kandidaatide paremusjärjestuse sorteeritud probmapi abil\n",
    "    return [k for k in dict(sorted(probmap.items(), key=lambda item: item[1], reverse=True)).keys()]"
   ]
  },
  {
   "cell_type": "code",
   "execution_count": 5,
   "metadata": {},
   "outputs": [],
   "source": [
    "def interpoleeritudTN(trigramm,mudel):\n",
    "    ###\n",
    "    # trigramm  - nt ['kes','julgeb','ise']\n",
    "    # korpuseInfo - meetodi loeKorpus väljund\n",
    "    # \n",
    "    # toenaosus baaslahendusel\n",
    "    # 0.85*p(ise | kes julgeb) + 0.1*p(ise | julgeb) + 0.04*p(ise) + 0.01\n",
    "    # Leiame trigrammi tõenäosuse tükikaupa\n",
    "    pKolm = mudel.score(trigramm[2], (trigramm[0]+\" \"+trigramm[1]).split())\n",
    "    pKaks = mudel.score(trigramm[2], trigramm[1].split())\n",
    "    pUks = mudel.score(trigramm[2])\n",
    "    # Korrutame tükid vastavalt etteantud valemile\n",
    "    toenaosus = 0.85*pKolm + 0.10*pKaks + 0.04*pUks + 0.01\n",
    "    if toenaosus > 1:\n",
    "        raise Exception(\"Midagi on valesti, tõenäosus on üle ühe!\")\n",
    "    return toenaosus"
   ]
  },
  {
   "cell_type": "markdown",
   "metadata": {},
   "source": [
    "## Hindamine"
   ]
  },
  {
   "cell_type": "code",
   "execution_count": 6,
   "metadata": {},
   "outputs": [],
   "source": [
    "def top10(vastused):\n",
    "    # Tee top-10 jaoks alus\n",
    "    # [0, 0, 0, 0, 0, 0, 0, 0, 0, 0]\n",
    "    ranks = [0] * 10\n",
    "    # Ja kui oled esikümnes, siis võta arvesse\n",
    "    for rank in vastused:\n",
    "        if rank < 10:\n",
    "            ranks[rank] += 1\n",
    "    #[6, 8, 14, 6, 5, 6, 3, 8, 9, 7]\n",
    "    # Kumuleeruvalt\n",
    "    for i in range(1, 10):\n",
    "        ranks[i] += ranks[i-1]\n",
    "    #[6, 14, 28, 34, 39, 45, 48, 56, 65, 72]\n",
    "    # Kõik kokku\n",
    "    n = len(vastused)\n",
    "    # Suht- mitte absoluutarvuna\n",
    "    acc = [r / n for r in ranks]\n",
    "    print(','.join('%.2f' % a for a in acc))\n",
    "    #[0.01, 0.01, 0.03, 0.03, 0.04, 0.04, 0.05, 0.06, 0.07, 0.07]\n",
    "    # ehk 1% vastuseid oli esimene valik\n",
    "    #     5% vastustest olid esiseitsmes\n",
    "    #     (umbes 1% täpselt seitsmendal kohal)"
   ]
  },
  {
   "cell_type": "markdown",
   "metadata": {},
   "source": [
    "## Testimine"
   ]
  },
  {
   "cell_type": "code",
   "execution_count": 7,
   "metadata": {
    "scrolled": false
   },
   "outputs": [
    {
     "name": "stdout",
     "output_type": "stream",
     "text": [
      "--- 542.9926500320435 seconds ---\n",
      "0.12,0.16,0.18,0.20,0.22,0.24,0.25,0.26,0.28,0.29\n"
     ]
    }
   ],
   "source": [
    "import time\n",
    "start_time = time.time()\n",
    "vastused = lahendaLyngad('gaps.txt','var.txt','korpus')\n",
    "print(\"--- %s seconds ---\" % (time.time() - start_time))\n",
    "koondinfo = top10(vastused)\n",
    "koondinfo \n"
   ]
  }
 ],
 "metadata": {
  "kernelspec": {
   "display_name": "Python 3",
   "language": "python",
   "name": "python3"
  },
  "language_info": {
   "codemirror_mode": {
    "name": "ipython",
    "version": 3
   },
   "file_extension": ".py",
   "mimetype": "text/x-python",
   "name": "python",
   "nbconvert_exporter": "python",
   "pygments_lexer": "ipython3",
   "version": "3.7.9"
  }
 },
 "nbformat": 4,
 "nbformat_minor": 2
}
